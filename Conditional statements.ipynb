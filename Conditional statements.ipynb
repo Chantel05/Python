{
 "cells": [
  {
   "cell_type": "code",
   "execution_count": 6,
   "id": "0a214495",
   "metadata": {},
   "outputs": [
    {
     "name": "stdout",
     "output_type": "stream",
     "text": [
      "number is positive.\n",
      "The if statement is easy\n"
     ]
    }
   ],
   "source": [
    "#IF statement\n",
    "number = 10\n",
    "\n",
    "#check if number is greater than 0\n",
    "if number > 0:\n",
    "    print('number is positive.')\n",
    "\n",
    "\n",
    "print('The if statement is easy')"
   ]
  },
  {
   "cell_type": "code",
   "execution_count": 5,
   "id": "382730b5",
   "metadata": {},
   "outputs": [
    {
     "name": "stdout",
     "output_type": "stream",
     "text": [
      "Positive number\n",
      "This statement is always executed\n"
     ]
    }
   ],
   "source": [
    "#IF ELSE statement\n",
    "number = 10\n",
    "\n",
    "if number > 0 :\n",
    "    print('Positive number')\n",
    "\n",
    "\n",
    "else:\n",
    "    print('Negative number')\n",
    "    \n",
    "print('This statement is always executed')\n"
   ]
  },
  {
   "cell_type": "code",
   "execution_count": 7,
   "id": "6c95f228",
   "metadata": {},
   "outputs": [
    {
     "name": "stdout",
     "output_type": "stream",
     "text": [
      "Zero\n",
      "This statement is always executed\n"
     ]
    }
   ],
   "source": [
    "#IF ELIF ELSE statement\n",
    "number = 0\n",
    "\n",
    "if number > 0:\n",
    "    print(\"Positive number\")\n",
    "    \n",
    "elif number == 0:\n",
    "    print('Zero')\n",
    "    \n",
    "else:\n",
    "    print('Negative number')\n",
    "    \n",
    "print('This statement is always executed')"
   ]
  },
  {
   "cell_type": "code",
   "execution_count": null,
   "id": "926efc5c",
   "metadata": {},
   "outputs": [],
   "source": [
    "#NESTED IF statement\n",
    "number = 5\n",
    "\n",
    "#outer if statement\n",
    "if(number >= 0):\n",
    "    #inner if statement\n",
    "    if number == 0:\n",
    "        print('Number is 0')\n",
    "        #inner else statement\n",
    "        else:\n",
    "            print('Number is executed')"
   ]
  }
 ],
 "metadata": {
  "kernelspec": {
   "display_name": "Python 3 (ipykernel)",
   "language": "python",
   "name": "python3"
  },
  "language_info": {
   "codemirror_mode": {
    "name": "ipython",
    "version": 3
   },
   "file_extension": ".py",
   "mimetype": "text/x-python",
   "name": "python",
   "nbconvert_exporter": "python",
   "pygments_lexer": "ipython3",
   "version": "3.11.5"
  }
 },
 "nbformat": 4,
 "nbformat_minor": 5
}
