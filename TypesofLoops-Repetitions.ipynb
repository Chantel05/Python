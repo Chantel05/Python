{
 "cells": [
  {
   "cell_type": "code",
   "execution_count": 2,
   "id": "ce85e83a",
   "metadata": {},
   "outputs": [
    {
     "ename": "SyntaxError",
     "evalue": "invalid syntax (1290804697.py, line 9)",
     "output_type": "error",
     "traceback": [
      "\u001b[1;36m  Cell \u001b[1;32mIn[2], line 9\u001b[1;36m\u001b[0m\n\u001b[1;33m    for number integers:\u001b[0m\n\u001b[1;37m               ^\u001b[0m\n\u001b[1;31mSyntaxError\u001b[0m\u001b[1;31m:\u001b[0m invalid syntax\n"
     ]
    }
   ],
   "source": [
    "#For Loop\n",
    "integer= [1, 2, 3, 4, 5]\n",
    "\n",
    "#for variable to store in container\n",
    "\n",
    "for number in integers:\n",
    "    print(number)\n",
    "    \n",
    "for number integers:\n",
    "    print('yep!')"
   ]
  },
  {
   "cell_type": "code",
   "execution_count": null,
   "id": "fc1eea98",
   "metadata": {},
   "outputs": [],
   "source": [
    "#While Loops\n",
    "#requires user to have a starting point\n",
    "\n",
    "number=0\n",
    "\n",
    "while number < 5\n",
    "print(number)\n",
    "\n",
    "if number ==3:\n",
    "    print"
   ]
  }
 ],
 "metadata": {
  "kernelspec": {
   "display_name": "Python 3 (ipykernel)",
   "language": "python",
   "name": "python3"
  },
  "language_info": {
   "codemirror_mode": {
    "name": "ipython",
    "version": 3
   },
   "file_extension": ".py",
   "mimetype": "text/x-python",
   "name": "python",
   "nbconvert_exporter": "python",
   "pygments_lexer": "ipython3",
   "version": "3.11.5"
  }
 },
 "nbformat": 4,
 "nbformat_minor": 5
}
