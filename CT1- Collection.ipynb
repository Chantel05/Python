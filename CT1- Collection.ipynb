{
 "cells": [
  {
   "cell_type": "code",
   "execution_count": null,
   "id": "8a452ccb",
   "metadata": {},
   "outputs": [],
   "source": [
    "#Question 3 -List Collection\n",
    "\n",
    "# Function to capture user input for rainfall amount\n",
    "def get_rainfall():\n",
    "  rainfall = input(\"Enter amount of rainfall recorded: \")\n",
    "  return float(rainfall)\n",
    "\n",
    "# Function to calculate \n",
    "#total, average, and highest rainfall amount\n",
    "def calculate_rainfall(rainfall_list):\n",
    " total_rainfall = sum(rainfall_list)\n",
    " average_rainfall = total_rainfall / len(rainfall_list)\n",
    " highest_rainfall = max(rainfall_list)\n",
    "\n",
    " return total_rainfall, average_rainfall, highest_rainfall\n",
    "\n",
    "# Function to display the relevant information\n",
    "def display_info(rainfall_list):\n",
    " total_rainfall, average_rainfall, highest_rainfall = calculate_rainfall(rainfall_list)\n",
    "\n",
    " print(\"Rainfall recorded values are:\")\n",
    " for i, rainfall in enumerate(rainfall_list):\n",
    "     print(f\"{i+1}: {rainfall}\")\n",
    "\n",
    " print(f\"\\nTotal amount of rainfall recorded: {total_rainfall}\")\n",
    " print(f\"Highest amount of Rainfall Recorded: {highest_rainfall}\")\n",
    " print(f\"Average amount of rainfall: {average_rainfall}\")\n",
    "\n",
    "\n",
    "if __name__ == \"__main__\":\n",
    "  rainfall_list = []\n",
    "\n",
    "  while True:\n",
    "      date = input(\"Enter the date, (or type 'done' to finish): \")\n",
    "      if date.lower() == \"done\":\n",
    "          break\n",
    "\n",
    "      rainfall = get_rainfall()\n",
    "      rainfall_list.append(rainfall)\n",
    "\n",
    "  display_info(rainfall_list)\n"
   ]
  },
  {
   "cell_type": "code",
   "execution_count": null,
   "id": "92f3afd0",
   "metadata": {},
   "outputs": [],
   "source": []
  },
  {
   "cell_type": "code",
   "execution_count": null,
   "id": "9da91d99",
   "metadata": {},
   "outputs": [],
   "source": []
  }
 ],
 "metadata": {
  "kernelspec": {
   "display_name": "Python 3 (ipykernel)",
   "language": "python",
   "name": "python3"
  },
  "language_info": {
   "codemirror_mode": {
    "name": "ipython",
    "version": 3
   },
   "file_extension": ".py",
   "mimetype": "text/x-python",
   "name": "python",
   "nbconvert_exporter": "python",
   "pygments_lexer": "ipython3",
   "version": "3.11.5"
  }
 },
 "nbformat": 4,
 "nbformat_minor": 5
}
