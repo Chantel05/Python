{
 "cells": [
  {
   "cell_type": "code",
   "execution_count": null,
   "id": "e21c51b7",
   "metadata": {},
   "outputs": [],
   "source": [
    "# Imported the datetime module to calculate the user's age.\n",
    "import datetime\n",
    "\n",
    "# Define a function called \"check_eligibility\" that will be called to check if the user is eligible for a licence\n",
    "def check_eligibility():\n",
    "  # Get the user's current age\n",
    "  current_age = datetime.datetime.now().year - int(input(\"Please enter your birth year: \"))\n",
    "\n",
    "  # Check if the user is male and aged 19 or older.\n",
    "  gender = input(\"Please enter your gender (M/F): \")\n",
    "  if gender.upper() == \"M\":\n",
    "      if current_age >= 19:\n",
    "          print(\"Congratulations Themba! You are a male, aged  \", current_age, \"years and eligible.\")\n",
    "      else:\n",
    "          print(\"Unfortunately, you are not eligible.\")\n",
    "            \n",
    "  # Check if the user is female and aged 18 or older.\n",
    "  elif gender.upper() == \"F\":\n",
    "      if current_age >= 18:\n",
    "          print(\"Congratulations! You are a female, aged\", current_age, \"years and eligible.\")\n",
    "      else:\n",
    "          print(\"Unfortunately, you are not eligible.\")\n",
    "      else:\n",
    "         print(\"Invalid gender. Please enter M for male or F for female.\")\n",
    "\n",
    "     \n",
    "#Call the \"check_eligibility\" function to check if the user is eligible for a licence or not.\n",
    "check_eligibility()"
   ]
  },
  {
   "cell_type": "code",
   "execution_count": null,
   "id": "db629137",
   "metadata": {},
   "outputs": [],
   "source": [
    "# Import the datetime module to calculate the user's age\n",
    "import datetime\n",
    "\n",
    "# Get the user's current age\n",
    "current_age = datetime.datetime.now().year - int(input(\"Please enter your birth year: \"))\n",
    "\n",
    "# Check if the user is male and aged 19 or older\n",
    "gender = input(\"Please enter your gender (M/F): \")\n",
    "if gender.upper() == \"M\":\n",
    "   if current_age >= 19:\n",
    "       print(\"Congratulations Themba! You are a male, aged\", current_age, \"years and eligible.\")\n",
    "   else:\n",
    "       print(\"Unfortunately, you are not eligible.\")\n",
    "# Check if the user is female and aged 18 or older\n",
    "elif gender.upper() == \"F\":\n",
    "   if current_age >= 18:\n",
    "       print(\"Congratulations! You are a female, aged\", current_age, \"years and eligible.\")\n",
    "   else:\n",
    "       print(\"Unfortunately, you are not eligible.\")\n",
    "else:\n",
    "   print(\"Invalid gender. Please enter M for male or F for female.\")"
   ]
  },
  {
   "cell_type": "code",
   "execution_count": null,
   "id": "a439868a",
   "metadata": {},
   "outputs": [],
   "source": []
  }
 ],
 "metadata": {
  "kernelspec": {
   "display_name": "Python 3 (ipykernel)",
   "language": "python",
   "name": "python3"
  },
  "language_info": {
   "codemirror_mode": {
    "name": "ipython",
    "version": 3
   },
   "file_extension": ".py",
   "mimetype": "text/x-python",
   "name": "python",
   "nbconvert_exporter": "python",
   "pygments_lexer": "ipython3",
   "version": "3.11.5"
  }
 },
 "nbformat": 4,
 "nbformat_minor": 5
}
