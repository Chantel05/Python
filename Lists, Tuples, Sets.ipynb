{
 "cells": [
  {
   "cell_type": "code",
   "execution_count": 3,
   "id": "01e94d22",
   "metadata": {},
   "outputs": [
    {
     "ename": "SyntaxError",
     "evalue": "invalid decimal literal (297264740.py, line 2)",
     "output_type": "error",
     "traceback": [
      "\u001b[1;36m  Cell \u001b[1;32mIn[3], line 2\u001b[1;36m\u001b[0m\n\u001b[1;33m    Listnumber = [1o, 20, 30]\u001b[0m\n\u001b[1;37m                  ^\u001b[0m\n\u001b[1;31mSyntaxError\u001b[0m\u001b[1;31m:\u001b[0m invalid decimal literal\n"
     ]
    }
   ],
   "source": [
    "#creating a list of numbers\n",
    "Listnumber = [1o, 20, 30]\n"
   ]
  },
  {
   "cell_type": "code",
   "execution_count": 1,
   "id": "303f69d4",
   "metadata": {},
   "outputs": [
    {
     "name": "stdout",
     "output_type": "stream",
     "text": [
      "\n",
      "List Items:\n",
      "Chantel\n",
      "Kim\n"
     ]
    }
   ],
   "source": [
    "#creating a list of strings and accessing\n",
    "#using index\n",
    "\n",
    "List = [\"Chantel\", \"Sinethemba\", \"Kim\"]\n",
    "print(\"\\nList Items:\")\n",
    "print(List[0])\n",
    "print(List[2])"
   ]
  },
  {
   "cell_type": "code",
   "execution_count": 2,
   "id": "c7439a8a",
   "metadata": {},
   "outputs": [
    {
     "name": "stdout",
     "output_type": "stream",
     "text": [
      "\n",
      "List with the use of mixed values: \n",
      "[1, 2, 'Chantel', 4, 'Kim', 6, 'Zwi']\n"
     ]
    }
   ],
   "source": [
    "#Creating a list with\n",
    "#mixed type of values\n",
    "#(Having numbers and strings)\n",
    "\n",
    "List = [1, 2, 'Chantel', 4, 'Kim', 6, 'Zwi']\n",
    "print(\"\\nList with the use of mixed values: \")\n",
    "print(List)"
   ]
  },
  {
   "cell_type": "code",
   "execution_count": 8,
   "id": "64b21b0e",
   "metadata": {},
   "outputs": [
    {
     "name": "stdout",
     "output_type": "stream",
     "text": [
      "Enter elements (Space-Separated): [1, 2, 'Chantel', 4, 'Kim', 6, 'Zwi']\n",
      "The list is: ['[1,', '2,', \"'Chantel',\", '4,', \"'Kim',\", '6,', \"'Zwi']\"]\n"
     ]
    }
   ],
   "source": [
    "#Python program to take space\n",
    "#seperated input as a string\n",
    "#split and store it to a list\n",
    "#and print the string\n",
    "#input the list as string\n",
    "\n",
    "string = input(\"Enter elements (Space-Separated): \")\n",
    "\n",
    "#split the strings and store it to a list\n",
    "lst = string.split()\n",
    "print('The list is:', lst)  #printing the list\n",
    "\n"
   ]
  },
  {
   "cell_type": "code",
   "execution_count": 10,
   "id": "72f6da5a",
   "metadata": {},
   "outputs": [
    {
     "name": "stdout",
     "output_type": "stream",
     "text": [
      "Initial blank List: \n",
      "[]\n",
      "\n",
      "List after Addition of Three elements: \n",
      "[1, 2, 4]\n"
     ]
    }
   ],
   "source": [
    "#Adding Elements to a Python List\n",
    "#M1 Append()method  Append=Adds(goes to last element)\n",
    "\n",
    "#Creating a list\n",
    "List= []\n",
    "print(\"Initial blank List: \")\n",
    "print(List)\n",
    "\n",
    "#Addition of Elements\n",
    "#In the list\n",
    "\n",
    "List.append(1)\n",
    "List.append(2)\n",
    "List.append(4)\n",
    "\n",
    "print(\"\\nList after Addition of Three elements: \")\n",
    "print(List)\n"
   ]
  },
  {
   "cell_type": "code",
   "execution_count": 11,
   "id": "3940951a",
   "metadata": {},
   "outputs": [
    {
     "name": "stdout",
     "output_type": "stream",
     "text": [
      "Initial List: \n",
      "[1, 2, 3, 4]\n",
      "\n",
      "List after performing insert Operation:\n",
      "['Jean the best', 1, 2, 3, 12, 4]\n"
     ]
    }
   ],
   "source": [
    "\n",
    "#Creating a list\n",
    "List = [1, 2, 3, 4]\n",
    "print(\"Initial List: \")\n",
    "print(List)\n",
    "\n",
    "#Addition of Element at\n",
    "#specific Position\n",
    "#(using Insert Method)\n",
    "\n",
    "List.insert(3, 12)\n",
    "List.insert(0, 'Jean the best')\n",
    "print(\"\\nList after performing insert Operation:\")\n",
    "print(List)\n",
    "\n"
   ]
  },
  {
   "cell_type": "code",
   "execution_count": null,
   "id": "58a154d7",
   "metadata": {},
   "outputs": [],
   "source": []
  }
 ],
 "metadata": {
  "kernelspec": {
   "display_name": "Python 3 (ipykernel)",
   "language": "python",
   "name": "python3"
  },
  "language_info": {
   "codemirror_mode": {
    "name": "ipython",
    "version": 3
   },
   "file_extension": ".py",
   "mimetype": "text/x-python",
   "name": "python",
   "nbconvert_exporter": "python",
   "pygments_lexer": "ipython3",
   "version": "3.11.5"
  }
 },
 "nbformat": 4,
 "nbformat_minor": 5
}
