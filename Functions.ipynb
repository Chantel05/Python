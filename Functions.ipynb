{
 "cells": [
  {
   "cell_type": "code",
   "execution_count": 10,
   "id": "c69205ed",
   "metadata": {
    "scrolled": true
   },
   "outputs": [
    {
     "ename": "IndentationError",
     "evalue": "unindent does not match any outer indentation level (<tokenize>, line 4)",
     "output_type": "error",
     "traceback": [
      "\u001b[1;36m  File \u001b[1;32m<tokenize>:4\u001b[1;36m\u001b[0m\n\u001b[1;33m    greetings() #call a function\u001b[0m\n\u001b[1;37m    ^\u001b[0m\n\u001b[1;31mIndentationError\u001b[0m\u001b[1;31m:\u001b[0m unindent does not match any outer indentation level\n"
     ]
    }
   ],
   "source": [
    "def greetings(): #this how you create a function\n",
    "    print(\"hello this is day 3\")\n",
    "    \n",
    " greetings() #call a function"
   ]
  },
  {
   "cell_type": "code",
   "execution_count": 6,
   "id": "52352202",
   "metadata": {},
   "outputs": [],
   "source": [
    "def myname(fullname):\n",
    "    print(fullname + \"I am learning from BC\")\n",
    "    fullname(\"Themba\")\n",
    "    fullname(\"Thapelo\")\n",
    "    return;\n"
   ]
  },
  {
   "cell_type": "code",
   "execution_count": 8,
   "id": "ce84b67c",
   "metadata": {},
   "outputs": [
    {
     "ename": "SyntaxError",
     "evalue": "Missing parentheses in call to 'print'. Did you mean print(...)? (4017848366.py, line 2)",
     "output_type": "error",
     "traceback": [
      "\u001b[1;36m  Cell \u001b[1;32mIn[8], line 2\u001b[1;36m\u001b[0m\n\u001b[1;33m    print\"Name:\", name;\u001b[0m\n\u001b[1;37m    ^\u001b[0m\n\u001b[1;31mSyntaxError\u001b[0m\u001b[1;31m:\u001b[0m Missing parentheses in call to 'print'. Did you mean print(...)?\n"
     ]
    }
   ],
   "source": [
    "def printinfo( name, age ): \"Test function\"\n",
    "    print\"Name:\", name;\n",
    "    print\"Age\", age;\n",
    "    return;\n",
    "\n",
    "printinfo(age=50, name=\"mike\");"
   ]
  },
  {
   "cell_type": "code",
   "execution_count": 12,
   "id": "74dee861",
   "metadata": {},
   "outputs": [
    {
     "ename": "IndentationError",
     "evalue": "unexpected indent (798715361.py, line 21)",
     "output_type": "error",
     "traceback": [
      "\u001b[1;36m  Cell \u001b[1;32mIn[12], line 21\u001b[1;36m\u001b[0m\n\u001b[1;33m    if num2 != 0 and num3 != 0:           # Division (checking if the denominator is not zero)\u001b[0m\n\u001b[1;37m    ^\u001b[0m\n\u001b[1;31mIndentationError\u001b[0m\u001b[1;31m:\u001b[0m unexpected indent\n"
     ]
    }
   ],
   "source": [
    "def get_user_input():\n",
    "    \n",
    "    #Function to get three numbers from the user.\n",
    "    num1 = float(input(\"Enter the first number: \"))\n",
    "    num2 = float(input(\"Enter the second number: \"))\n",
    "    num3 = float(input(\"Enter the third number: \"))\n",
    "    return num1, num2, num3\n",
    "\n",
    "def add_numbers(num1, num2, num3):\n",
    "    #Function to perform addition.\n",
    "    return num1 + num2 + num3\n",
    "\n",
    "def subtract_numbers(num1, num2, num3):\n",
    "    #Function to perform subtraction.\n",
    "    return num1 - num2 - num3\n",
    "\n",
    "def multiply_numbers(num1, num2, num3):\n",
    "    #Function to perform multiplication.\n",
    "    return num1 * num2 * num3\n",
    "\n",
    "def divide_numbers(num1, num2, num3):\n",
    "    #Function to perform division.\n",
    "    # Checking for division by zero\n",
    "    if num2 == 0 or num3 == 0:\n",
    "        return \"Cannot divide by zero.\"\n",
    "    else:\n",
    "        return num1 / num2 / num3\n",
    "\n",
    "def main():\n",
    "    # Getting user input\n",
    "    num1, num2, num3 = get_user_input()\n",
    "\n",
    "    # Performing operations\n",
    "    addition_result = add_numbers(num1, num2, num3)\n",
    "    subtraction_result = subtract_numbers(num1, num2, num3)\n",
    "    multiplication_result = multiply_numbers(num1, num2, num3)\n",
    "    division_result = divide_numbers(num1, num2, num3)\n",
    "\n",
    "    # Displaying results\n",
    "    print(f\"Addition Result: {addition_result}\")\n",
    "    print(f\"Subtraction Result: {subtraction_result}\")\n",
    "    print(f\"Multiplication Result: {multiplication_result}\")\n",
    "    print(f\"Division Result: {division_result}\")\n",
    "\n",
    "# Calling the main function to execute the program\n",
    "main()\n"
   ]
  },
  {
   "cell_type": "code",
   "execution_count": 10,
   "id": "164a17ed",
   "metadata": {},
   "outputs": [
    {
     "name": "stdout",
     "output_type": "stream",
     "text": [
      "Enter the first number: 110\n",
      "Enter the second number: 50\n",
      "Enter the third number: 35\n",
      "\n",
      "Results:\n",
      "Addition: 195.0\n",
      "Subtraction: 25.0\n",
      "Multiplication: 192500.0\n",
      "Division: 0.06285714285714286\n"
     ]
    }
   ],
   "source": [
    "def get_user_input():\n",
    "    \"\"\"\n",
    "    Function to get three numbers as input from the user.\n",
    "    \"\"\"\n",
    "    num1 = float(input(\"Enter the first number: \"))\n",
    "    num2 = float(input(\"Enter the second number: \"))\n",
    "    num3 = float(input(\"Enter the third number: \"))\n",
    "    return num1, num2, num3\n",
    "\n",
    "def add_numbers(num1, num2, num3):\n",
    "    \"\"\"\n",
    "    Function to add three numbers.\n",
    "    \"\"\"\n",
    "    return num1 + num2 + num3\n",
    "\n",
    "def subtract_numbers(num1, num2, num3):\n",
    "    \"\"\"\n",
    "    Function to subtract the second and third numbers from the first.\n",
    "    \"\"\"\n",
    "    return num1 - num2 - num3\n",
    "\n",
    "def multiply_numbers(num1, num2, num3):\n",
    "    \"\"\"\n",
    "    Function to multiply the three numbers.\n",
    "    \"\"\"\n",
    "    return num1 * num2 * num3\n",
    "\n",
    "def divide_numbers(num1, num2, num3):\n",
    "    \"\"\"\n",
    "    Function to divide the first number by the product of the second and third numbers.\n",
    "    \"\"\"\n",
    "    result = num1 / (num2 * num3)\n",
    "    return result\n",
    "\n",
    "def main():\n",
    "    # Get user input\n",
    "    number1, number2, number3 = get_user_input()\n",
    "\n",
    "    # Calculate and print results\n",
    "    print(\"\\nResults:\")\n",
    "    print(f\"Addition: {add_numbers(number1, number2, number3)}\")\n",
    "    print(f\"Subtraction: {subtract_numbers(number1, number2, number3)}\")\n",
    "    print(f\"Multiplication: {multiply_numbers(number1, number2, number3)}\")\n",
    "    \n",
    "    # Check if division is possible (avoid division by zero)\n",
    "    if number2 != 0 and number3 != 0:\n",
    "        print(f\"Division: {divide_numbers(number1, number2, number3)}\")\n",
    "    else:\n",
    "        print(\"Division not possible due to division by zero.\")\n",
    "\n",
    "if __name__ == \"__main__\":\n",
    "    main()\n"
   ]
  },
  {
   "cell_type": "code",
   "execution_count": null,
   "id": "d2e50e56",
   "metadata": {},
   "outputs": [],
   "source": []
  }
 ],
 "metadata": {
  "kernelspec": {
   "display_name": "Python 3 (ipykernel)",
   "language": "python",
   "name": "python3"
  },
  "language_info": {
   "codemirror_mode": {
    "name": "ipython",
    "version": 3
   },
   "file_extension": ".py",
   "mimetype": "text/x-python",
   "name": "python",
   "nbconvert_exporter": "python",
   "pygments_lexer": "ipython3",
   "version": "3.11.5"
  }
 },
 "nbformat": 4,
 "nbformat_minor": 5
}
